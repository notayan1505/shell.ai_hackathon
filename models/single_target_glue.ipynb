{
 "cells": [
  {
   "cell_type": "code",
   "execution_count": 7,
   "id": "b53fa55b",
   "metadata": {},
   "outputs": [
    {
     "name": "stdout",
     "output_type": "stream",
     "text": [
      "✅ Clean final submission saved to: /Users/xDAyN/Desktop/cs project/Project Shell.ai Hackathon/final_submission.csv\n"
     ]
    }
   ],
   "source": [
    "import pandas as pd\n",
    "\n",
    "# Set paths\n",
    "folder = '/Users/xDAyN/Desktop/cs project/Project Shell.ai Hackathon/'\n",
    "test_file = f'{folder}dataset/X_test.csv'\n",
    "output_file = f'{folder}final_submission.csv'\n",
    "\n",
    "# Load test data to get row count\n",
    "X_test = pd.read_csv(test_file)\n",
    "num_rows = len(X_test)\n",
    "\n",
    "# Generate ID column from 0 to num_rows - 1\n",
    "ids = pd.Series(range(num_rows), name='ID')\n",
    "\n",
    "# Load and rename predictions\n",
    "prediction_dfs = []\n",
    "for i in range(1, 11):\n",
    "    df = pd.read_csv(f'{folder}test_predictions_target_{i}.csv')\n",
    "    df.columns = [f'BlendProperty{i}']  # Rename the only column\n",
    "    prediction_dfs.append(df)\n",
    "\n",
    "# Concatenate all predictions horizontally\n",
    "submission_df = pd.concat([ids] + prediction_dfs, axis=1)\n",
    "\n",
    "# Ensure it's exactly 11 columns\n",
    "assert submission_df.shape[1] == 11, \"❌ Submission file does not have exactly 11 columns.\"\n",
    "\n",
    "# Save to CSV without index\n",
    "submission_df.to_csv(output_file, index=False)\n",
    "print(f\"✅ Clean final submission saved to: {output_file}\")\n"
   ]
  }
 ],
 "metadata": {
  "kernelspec": {
   "display_name": "Python 3",
   "language": "python",
   "name": "python3"
  },
  "language_info": {
   "codemirror_mode": {
    "name": "ipython",
    "version": 3
   },
   "file_extension": ".py",
   "mimetype": "text/x-python",
   "name": "python",
   "nbconvert_exporter": "python",
   "pygments_lexer": "ipython3",
   "version": "3.12.5"
  }
 },
 "nbformat": 4,
 "nbformat_minor": 5
}
